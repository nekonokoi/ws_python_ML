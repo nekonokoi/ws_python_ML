{
 "cells": [
  {
   "cell_type": "markdown",
   "metadata": {},
   "source": [
    "# 使用するモジュール\n",
    "- pandas:データフレームを扱うモジュール\n",
    "- numpy:行列を扱うモジュール\n",
    "- scipy:科学計算を扱うモジュール\n",
    "- matplotlib:データの可視化モジュール\n",
    "- searborn:matplotlibの強化モジュール\n",
    "- sci-kit learn:機械学習を扱うモジュール"
   ]
  },
  {
   "cell_type": "markdown",
   "metadata": {},
   "source": [
    "# アジェンダ\n",
    "- 基本的な集計\n",
    "- 統計的な確認\n",
    "- 多変量解析\n",
    "- 機械学習"
   ]
  },
  {
   "cell_type": "markdown",
   "metadata": {},
   "source": [
    "# 機械学習のプロセス"
   ]
  },
  {
   "cell_type": "markdown",
   "metadata": {},
   "source": [
    "# 機械学習の種類"
   ]
  },
  {
   "cell_type": "code",
   "execution_count": 3,
   "metadata": {
    "collapsed": false
   },
   "outputs": [],
   "source": [
    "import pandas as pd\n",
    "import numpy as np\n",
    "import matplotlib.pyplot as plt\n",
    "import seaborn as sns\n",
    "\n",
    "% matplotlib inline"
   ]
  },
  {
   "cell_type": "markdown",
   "metadata": {},
   "source": [
    "# 今回使うデータ\n",
    "- 某小売店で購買内容を基に購買者が妊婦か否かを判断したデータ\n",
    "\n",
    "参考\n",
    "[DataSmart]()\n",
    "[]()\n"
   ]
  },
  {
   "cell_type": "code",
   "execution_count": 4,
   "metadata": {
    "collapsed": true
   },
   "outputs": [],
   "source": [
    "retail = pd.read_csv(\"retail.csv\")"
   ]
  },
  {
   "cell_type": "code",
   "execution_count": 5,
   "metadata": {
    "collapsed": false
   },
   "outputs": [
    {
     "data": {
      "text/html": [
       "<div>\n",
       "<table border=\"1\" class=\"dataframe\">\n",
       "  <thead>\n",
       "    <tr style=\"text-align: right;\">\n",
       "      <th></th>\n",
       "      <th>Implied Gender</th>\n",
       "      <th>Home/Apt/ PO Box</th>\n",
       "      <th>Pregnancy Test</th>\n",
       "      <th>Birth Control</th>\n",
       "      <th>Feminine Hygiene</th>\n",
       "      <th>Folic Acid</th>\n",
       "      <th>Prenatal Vitamins</th>\n",
       "      <th>Prenatal Yoga</th>\n",
       "      <th>Body Pillow</th>\n",
       "      <th>Ginger Ale</th>\n",
       "      <th>Sea Bands</th>\n",
       "      <th>Stopped buying ciggies</th>\n",
       "      <th>Cigarettes</th>\n",
       "      <th>Smoking Cessation</th>\n",
       "      <th>Stopped buying wine</th>\n",
       "      <th>Wine</th>\n",
       "      <th>Maternity Clothes</th>\n",
       "      <th>PREGNANT</th>\n",
       "    </tr>\n",
       "  </thead>\n",
       "  <tbody>\n",
       "    <tr>\n",
       "      <th>0</th>\n",
       "      <td>M</td>\n",
       "      <td>A</td>\n",
       "      <td>1</td>\n",
       "      <td>0</td>\n",
       "      <td>0</td>\n",
       "      <td>0</td>\n",
       "      <td>1</td>\n",
       "      <td>0</td>\n",
       "      <td>0</td>\n",
       "      <td>0</td>\n",
       "      <td>0</td>\n",
       "      <td>0</td>\n",
       "      <td>0</td>\n",
       "      <td>0</td>\n",
       "      <td>0</td>\n",
       "      <td>0</td>\n",
       "      <td>0</td>\n",
       "      <td>1</td>\n",
       "    </tr>\n",
       "    <tr>\n",
       "      <th>1</th>\n",
       "      <td>M</td>\n",
       "      <td>H</td>\n",
       "      <td>1</td>\n",
       "      <td>0</td>\n",
       "      <td>0</td>\n",
       "      <td>0</td>\n",
       "      <td>1</td>\n",
       "      <td>0</td>\n",
       "      <td>0</td>\n",
       "      <td>0</td>\n",
       "      <td>0</td>\n",
       "      <td>0</td>\n",
       "      <td>0</td>\n",
       "      <td>0</td>\n",
       "      <td>0</td>\n",
       "      <td>0</td>\n",
       "      <td>0</td>\n",
       "      <td>1</td>\n",
       "    </tr>\n",
       "    <tr>\n",
       "      <th>2</th>\n",
       "      <td>M</td>\n",
       "      <td>H</td>\n",
       "      <td>1</td>\n",
       "      <td>0</td>\n",
       "      <td>0</td>\n",
       "      <td>0</td>\n",
       "      <td>0</td>\n",
       "      <td>0</td>\n",
       "      <td>0</td>\n",
       "      <td>0</td>\n",
       "      <td>1</td>\n",
       "      <td>0</td>\n",
       "      <td>0</td>\n",
       "      <td>0</td>\n",
       "      <td>0</td>\n",
       "      <td>0</td>\n",
       "      <td>0</td>\n",
       "      <td>1</td>\n",
       "    </tr>\n",
       "    <tr>\n",
       "      <th>3</th>\n",
       "      <td>U</td>\n",
       "      <td>H</td>\n",
       "      <td>0</td>\n",
       "      <td>0</td>\n",
       "      <td>0</td>\n",
       "      <td>0</td>\n",
       "      <td>0</td>\n",
       "      <td>0</td>\n",
       "      <td>0</td>\n",
       "      <td>1</td>\n",
       "      <td>0</td>\n",
       "      <td>0</td>\n",
       "      <td>0</td>\n",
       "      <td>0</td>\n",
       "      <td>0</td>\n",
       "      <td>0</td>\n",
       "      <td>0</td>\n",
       "      <td>1</td>\n",
       "    </tr>\n",
       "    <tr>\n",
       "      <th>4</th>\n",
       "      <td>F</td>\n",
       "      <td>A</td>\n",
       "      <td>0</td>\n",
       "      <td>0</td>\n",
       "      <td>0</td>\n",
       "      <td>0</td>\n",
       "      <td>0</td>\n",
       "      <td>1</td>\n",
       "      <td>0</td>\n",
       "      <td>0</td>\n",
       "      <td>0</td>\n",
       "      <td>0</td>\n",
       "      <td>0</td>\n",
       "      <td>0</td>\n",
       "      <td>1</td>\n",
       "      <td>0</td>\n",
       "      <td>0</td>\n",
       "      <td>1</td>\n",
       "    </tr>\n",
       "  </tbody>\n",
       "</table>\n",
       "</div>"
      ],
      "text/plain": [
       "  Implied Gender Home/Apt/ PO Box  Pregnancy Test  Birth Control  \\\n",
       "0              M                A               1              0   \n",
       "1              M                H               1              0   \n",
       "2              M                H               1              0   \n",
       "3              U                H               0              0   \n",
       "4              F                A               0              0   \n",
       "\n",
       "   Feminine Hygiene  Folic Acid  Prenatal Vitamins  Prenatal Yoga  \\\n",
       "0                 0           0                  1              0   \n",
       "1                 0           0                  1              0   \n",
       "2                 0           0                  0              0   \n",
       "3                 0           0                  0              0   \n",
       "4                 0           0                  0              1   \n",
       "\n",
       "   Body Pillow  Ginger Ale  Sea Bands  Stopped buying ciggies  Cigarettes  \\\n",
       "0            0           0          0                       0           0   \n",
       "1            0           0          0                       0           0   \n",
       "2            0           0          1                       0           0   \n",
       "3            0           1          0                       0           0   \n",
       "4            0           0          0                       0           0   \n",
       "\n",
       "   Smoking Cessation  Stopped buying wine  Wine  Maternity Clothes  PREGNANT  \n",
       "0                  0                    0     0                  0         1  \n",
       "1                  0                    0     0                  0         1  \n",
       "2                  0                    0     0                  0         1  \n",
       "3                  0                    0     0                  0         1  \n",
       "4                  0                    1     0                  0         1  "
      ]
     },
     "execution_count": 5,
     "metadata": {},
     "output_type": "execute_result"
    }
   ],
   "source": [
    "retail.head(5)"
   ]
  },
  {
   "cell_type": "code",
   "execution_count": 6,
   "metadata": {
    "collapsed": false
   },
   "outputs": [
    {
     "name": "stdout",
     "output_type": "stream",
     "text": [
      "<class 'pandas.core.frame.DataFrame'>\n",
      "Int64Index: 1000 entries, 0 to 999\n",
      "Data columns (total 18 columns):\n",
      "Implied Gender            1000 non-null object\n",
      "Home/Apt/ PO Box          1000 non-null object\n",
      "Pregnancy Test            1000 non-null int64\n",
      "Birth Control             1000 non-null int64\n",
      "Feminine Hygiene          1000 non-null int64\n",
      "Folic Acid                1000 non-null int64\n",
      "Prenatal Vitamins         1000 non-null int64\n",
      "Prenatal Yoga             1000 non-null int64\n",
      "Body Pillow               1000 non-null int64\n",
      "Ginger Ale                1000 non-null int64\n",
      "Sea Bands                 1000 non-null int64\n",
      "Stopped buying ciggies    1000 non-null int64\n",
      "Cigarettes                1000 non-null int64\n",
      "Smoking Cessation         1000 non-null int64\n",
      "Stopped buying wine       1000 non-null int64\n",
      "Wine                      1000 non-null int64\n",
      "Maternity Clothes         1000 non-null int64\n",
      "PREGNANT                  1000 non-null int64\n",
      "dtypes: int64(16), object(2)\n",
      "memory usage: 148.4+ KB\n"
     ]
    }
   ],
   "source": [
    "retail.info()"
   ]
  },
  {
   "cell_type": "code",
   "execution_count": 8,
   "metadata": {
    "collapsed": false
   },
   "outputs": [
    {
     "name": "stdout",
     "output_type": "stream",
     "text": [
      "F    495\n",
      "M    401\n",
      "U    104\n",
      "Name: Implied Gender, dtype: int64\n"
     ]
    }
   ],
   "source": [
    "print retail[\"Implied Gender\"].value_counts()"
   ]
  },
  {
   "cell_type": "markdown",
   "metadata": {},
   "source": [
    "# データの集計\n",
    "- 生データ=>集計を行って、データの概要をつかむ\n",
    "- `group by`:行の集計\n",
    "- `pivot_table`:縦持ちデータ=>横持ちデータへの集計"
   ]
  },
  {
   "cell_type": "code",
   "execution_count": 11,
   "metadata": {
    "collapsed": false
   },
   "outputs": [
    {
     "data": {
      "text/html": [
       "<div>\n",
       "<table border=\"1\" class=\"dataframe\">\n",
       "  <thead>\n",
       "    <tr style=\"text-align: right;\">\n",
       "      <th>PREGNANT</th>\n",
       "      <th>0</th>\n",
       "      <th>1</th>\n",
       "    </tr>\n",
       "    <tr>\n",
       "      <th>Implied Gender</th>\n",
       "      <th></th>\n",
       "      <th></th>\n",
       "    </tr>\n",
       "  </thead>\n",
       "  <tbody>\n",
       "    <tr>\n",
       "      <th>F</th>\n",
       "      <td>226</td>\n",
       "      <td>269</td>\n",
       "    </tr>\n",
       "    <tr>\n",
       "      <th>M</th>\n",
       "      <td>228</td>\n",
       "      <td>173</td>\n",
       "    </tr>\n",
       "    <tr>\n",
       "      <th>U</th>\n",
       "      <td>46</td>\n",
       "      <td>58</td>\n",
       "    </tr>\n",
       "  </tbody>\n",
       "</table>\n",
       "</div>"
      ],
      "text/plain": [
       "PREGNANT          0    1\n",
       "Implied Gender          \n",
       "F               226  269\n",
       "M               228  173\n",
       "U                46   58"
      ]
     },
     "execution_count": 11,
     "metadata": {},
     "output_type": "execute_result"
    }
   ],
   "source": [
    "retail.ix[:,[\"Implied Gender\",\"PREGNANT\",\"Birth Control\"]].pivot_table(index=\"Implied Gender\",columns= \"PREGNANT\",values=\"Birth Control\",aggfunc=\"count\")"
   ]
  },
  {
   "cell_type": "markdown",
   "metadata": {},
   "source": [
    "# 検定で確認\n",
    "- カイ二乗検定\n",
    "- 独立性があるかの確認\n",
    "- 帰無仮説:独立していない,対立仮説:独立している"
   ]
  },
  {
   "cell_type": "code",
   "execution_count": 12,
   "metadata": {
    "collapsed": false
   },
   "outputs": [
    {
     "name": "stdout",
     "output_type": "stream",
     "text": [
      "0.00108495922782\n",
      "[[ 250.81473214  244.18526786]\n",
      " [ 203.18526786  197.81473214]]\n"
     ]
    }
   ],
   "source": [
    "from scipy import stats\n",
    "chi_dat = np.array([[226,269],[228,173]])\n",
    "squared,p,dof,ef = stats.chi2_contingency(chi_dat)\n",
    "print p #p値\n",
    "print ef #期待度数"
   ]
  },
  {
   "cell_type": "code",
   "execution_count": 13,
   "metadata": {
    "collapsed": true
   },
   "outputs": [],
   "source": [
    "# =>性別による影響がある"
   ]
  },
  {
   "cell_type": "code",
   "execution_count": 59,
   "metadata": {
    "collapsed": true
   },
   "outputs": [],
   "source": [
    "# 次元の話と線形分離"
   ]
  },
  {
   "cell_type": "markdown",
   "metadata": {},
   "source": [
    "# 多変量解析\n",
    "- 変数(次元):行列の列に意味をもたせたもの\n",
    "- 行方向のデータに属性を付与する\n",
    "- これのデータの扱いを理論化しているのが多変量解析(とそれ用のデータ分析)\n",
    "(人間の認知能力だと把握に限界がある)\n",
    "\n",
    "参考\n",
    "[ワインの話]()"
   ]
  },
  {
   "cell_type": "code",
   "execution_count": 14,
   "metadata": {
    "collapsed": false
   },
   "outputs": [
    {
     "data": {
      "text/plain": [
       "<matplotlib.axes._subplots.AxesSubplot at 0x118a236d0>"
      ]
     },
     "execution_count": 14,
     "metadata": {},
     "output_type": "execute_result"
    },
    {
     "data": {
      "image/png": "[encoded data removed]",
      "text/plain": [
       "<matplotlib.figure.Figure at 0x118a23810>"
      ]
     },
     "metadata": {},
     "output_type": "display_data"
    }
   ],
   "source": [
    "sns.heatmap(retail.pivot_table(index = \"Implied Gender\",columns=\"PREGNANT\",aggfunc=\"sum\").T)"
   ]
  },
  {
   "cell_type": "markdown",
   "metadata": {},
   "source": [
    "## 主成分分析\n",
    "- 多次元のデータをより少ない次元に圧縮する手法"
   ]
  },
  {
   "cell_type": "code",
   "execution_count": 15,
   "metadata": {
    "collapsed": true
   },
   "outputs": [],
   "source": [
    "from sklearn.decomposition import PCA\n",
    "pca_dat = retail.ix[:,2:17]\n",
    "pca_mdl = PCA(2)"
   ]
  },
  {
   "cell_type": "code",
   "execution_count": 16,
   "metadata": {
    "collapsed": false
   },
   "outputs": [
    {
     "data": {
      "text/html": [
       "<div>\n",
       "<table border=\"1\" class=\"dataframe\">\n",
       "  <thead>\n",
       "    <tr style=\"text-align: right;\">\n",
       "      <th></th>\n",
       "      <th>Pregnancy Test</th>\n",
       "      <th>Birth Control</th>\n",
       "      <th>Feminine Hygiene</th>\n",
       "      <th>Folic Acid</th>\n",
       "      <th>Prenatal Vitamins</th>\n",
       "      <th>Prenatal Yoga</th>\n",
       "      <th>Body Pillow</th>\n",
       "      <th>Ginger Ale</th>\n",
       "      <th>Sea Bands</th>\n",
       "      <th>Stopped buying ciggies</th>\n",
       "      <th>Cigarettes</th>\n",
       "      <th>Smoking Cessation</th>\n",
       "      <th>Stopped buying wine</th>\n",
       "      <th>Wine</th>\n",
       "      <th>Maternity Clothes</th>\n",
       "    </tr>\n",
       "  </thead>\n",
       "  <tbody>\n",
       "    <tr>\n",
       "      <th>0</th>\n",
       "      <td>1</td>\n",
       "      <td>0</td>\n",
       "      <td>0</td>\n",
       "      <td>0</td>\n",
       "      <td>1</td>\n",
       "      <td>0</td>\n",
       "      <td>0</td>\n",
       "      <td>0</td>\n",
       "      <td>0</td>\n",
       "      <td>0</td>\n",
       "      <td>0</td>\n",
       "      <td>0</td>\n",
       "      <td>0</td>\n",
       "      <td>0</td>\n",
       "      <td>0</td>\n",
       "    </tr>\n",
       "    <tr>\n",
       "      <th>1</th>\n",
       "      <td>1</td>\n",
       "      <td>0</td>\n",
       "      <td>0</td>\n",
       "      <td>0</td>\n",
       "      <td>1</td>\n",
       "      <td>0</td>\n",
       "      <td>0</td>\n",
       "      <td>0</td>\n",
       "      <td>0</td>\n",
       "      <td>0</td>\n",
       "      <td>0</td>\n",
       "      <td>0</td>\n",
       "      <td>0</td>\n",
       "      <td>0</td>\n",
       "      <td>0</td>\n",
       "    </tr>\n",
       "    <tr>\n",
       "      <th>2</th>\n",
       "      <td>1</td>\n",
       "      <td>0</td>\n",
       "      <td>0</td>\n",
       "      <td>0</td>\n",
       "      <td>0</td>\n",
       "      <td>0</td>\n",
       "      <td>0</td>\n",
       "      <td>0</td>\n",
       "      <td>1</td>\n",
       "      <td>0</td>\n",
       "      <td>0</td>\n",
       "      <td>0</td>\n",
       "      <td>0</td>\n",
       "      <td>0</td>\n",
       "      <td>0</td>\n",
       "    </tr>\n",
       "    <tr>\n",
       "      <th>3</th>\n",
       "      <td>0</td>\n",
       "      <td>0</td>\n",
       "      <td>0</td>\n",
       "      <td>0</td>\n",
       "      <td>0</td>\n",
       "      <td>0</td>\n",
       "      <td>0</td>\n",
       "      <td>1</td>\n",
       "      <td>0</td>\n",
       "      <td>0</td>\n",
       "      <td>0</td>\n",
       "      <td>0</td>\n",
       "      <td>0</td>\n",
       "      <td>0</td>\n",
       "      <td>0</td>\n",
       "    </tr>\n",
       "    <tr>\n",
       "      <th>4</th>\n",
       "      <td>0</td>\n",
       "      <td>0</td>\n",
       "      <td>0</td>\n",
       "      <td>0</td>\n",
       "      <td>0</td>\n",
       "      <td>1</td>\n",
       "      <td>0</td>\n",
       "      <td>0</td>\n",
       "      <td>0</td>\n",
       "      <td>0</td>\n",
       "      <td>0</td>\n",
       "      <td>0</td>\n",
       "      <td>1</td>\n",
       "      <td>0</td>\n",
       "      <td>0</td>\n",
       "    </tr>\n",
       "  </tbody>\n",
       "</table>\n",
       "</div>"
      ],
      "text/plain": [
       "   Pregnancy Test  Birth Control  Feminine Hygiene  Folic Acid  \\\n",
       "0               1              0                 0           0   \n",
       "1               1              0                 0           0   \n",
       "2               1              0                 0           0   \n",
       "3               0              0                 0           0   \n",
       "4               0              0                 0           0   \n",
       "\n",
       "   Prenatal Vitamins  Prenatal Yoga  Body Pillow  Ginger Ale  Sea Bands  \\\n",
       "0                  1              0            0           0          0   \n",
       "1                  1              0            0           0          0   \n",
       "2                  0              0            0           0          1   \n",
       "3                  0              0            0           1          0   \n",
       "4                  0              1            0           0          0   \n",
       "\n",
       "   Stopped buying ciggies  Cigarettes  Smoking Cessation  Stopped buying wine  \\\n",
       "0                       0           0                  0                    0   \n",
       "1                       0           0                  0                    0   \n",
       "2                       0           0                  0                    0   \n",
       "3                       0           0                  0                    0   \n",
       "4                       0           0                  0                    1   \n",
       "\n",
       "   Wine  Maternity Clothes  \n",
       "0     0                  0  \n",
       "1     0                  0  \n",
       "2     0                  0  \n",
       "3     0                  0  \n",
       "4     0                  0  "
      ]
     },
     "execution_count": 16,
     "metadata": {},
     "output_type": "execute_result"
    }
   ],
   "source": [
    "pca_dat.head()"
   ]
  },
  {
   "cell_type": "code",
   "execution_count": 17,
   "metadata": {
    "collapsed": false
   },
   "outputs": [],
   "source": [
    "pca_res = pca_mdl.fit_transform(pca_dat)"
   ]
  },
  {
   "cell_type": "code",
   "execution_count": 18,
   "metadata": {
    "collapsed": false
   },
   "outputs": [
    {
     "data": {
      "text/plain": [
       "array([[-0.4326589 ,  0.13894602],\n",
       "       [-0.4326589 ,  0.13894602],\n",
       "       [-0.16972018,  0.09554028],\n",
       "       [-0.02329614,  0.03590629],\n",
       "       [-0.36056148,  0.22265811]])"
      ]
     },
     "execution_count": 18,
     "metadata": {},
     "output_type": "execute_result"
    }
   ],
   "source": [
    "pca_res[:5]\n",
    "# 二次元に圧縮された"
   ]
  },
  {
   "cell_type": "code",
   "execution_count": 19,
   "metadata": {
    "collapsed": false
   },
   "outputs": [
    {
     "data": {
      "image/png": "[encoded data removed]",
      "text/plain": [
       "<matplotlib.figure.Figure at 0x11b788290>"
      ]
     },
     "metadata": {},
     "output_type": "display_data"
    }
   ],
   "source": [
    "pca_df = pd.DataFrame(pca_res)\n",
    "pca_df[\"PREGNANT\"] = retail[\"PREGNANT\"]\n",
    "col = [\"blue\",\"red\"]\n",
    "for i in range(2):\n",
    "    tmp = pca_df[pca_df.PREGNANT==i]\n",
    "    plt.scatter(x = tmp[0],y=tmp[1],color=col[i])\n",
    "# 横軸が妊婦が否かであることが分かる"
   ]
  },
  {
   "cell_type": "code",
   "execution_count": 20,
   "metadata": {
    "collapsed": false
   },
   "outputs": [
    {
     "data": {
      "image/png": "[encoded data removed]",
      "text/plain": [
       "<matplotlib.figure.Figure at 0x11b787710>"
      ]
     },
     "metadata": {},
     "output_type": "display_data"
    },
    {
     "data": {
      "image/png": "[encoded data removed]",
      "text/plain": [
       "<matplotlib.figure.Figure at 0x11b787850>"
      ]
     },
     "metadata": {},
     "output_type": "display_data"
    },
    {
     "data": {
      "image/png": "[encoded data removed]",
      "text/plain": [
       "<matplotlib.figure.Figure at 0x11c3f0710>"
      ]
     },
     "metadata": {},
     "output_type": "display_data"
    }
   ],
   "source": [
    "\n",
    "plt.subplot(1,1,1)\n",
    "for i in range(2):\n",
    "    fig = plt.figure()\n",
    "    pca_df[i].hist()"
   ]
  },
  {
   "cell_type": "markdown",
   "metadata": {},
   "source": [
    "## 階層クラスタリング\n",
    "- 次元を基に、類似度を把握する手法\n",
    "- 多次元空間にプロットされたデータの距離を基に似ているデータを集めう\n",
    "- 階層ありと階層なしがあるが今回は階層あり"
   ]
  },
  {
   "cell_type": "code",
   "execution_count": 21,
   "metadata": {
    "collapsed": false
   },
   "outputs": [
    {
     "data": {
      "image/png": "[encoded data removed]",
      "text/plain": [
       "<matplotlib.figure.Figure at 0x11b787090>"
      ]
     },
     "metadata": {},
     "output_type": "display_data"
    }
   ],
   "source": [
    "from scipy.spatial.distance import pdist\n",
    "from scipy.cluster.hierarchy import linkage,dendrogram\n",
    "\n",
    "dist = pdist(np.array(pca_dat.T))\n",
    "cls_result = linkage(dist)\n",
    "dendrogram(cls_result)\n",
    "plt.show()"
   ]
  },
  {
   "cell_type": "code",
   "execution_count": 22,
   "metadata": {
    "collapsed": false
   },
   "outputs": [
    {
     "name": "stdout",
     "output_type": "stream",
     "text": [
      "0 Pregnancy Test\n",
      "1 Birth Control\n",
      "2 Feminine Hygiene\n",
      "3 Folic Acid\n",
      "4 Prenatal Vitamins\n",
      "5 Prenatal Yoga\n",
      "6 Body Pillow\n",
      "7 Ginger Ale\n",
      "8 Sea Bands\n",
      "9 Stopped buying ciggies\n",
      "10 Cigarettes\n",
      "11 Smoking Cessation\n",
      "12 Stopped buying wine\n",
      "13 Wine\n",
      "14 Maternity Clothes\n"
     ]
    }
   ],
   "source": [
    "for i , n in enumerate(pca_dat.columns):\n",
    "    print  i,n"
   ]
  },
  {
   "cell_type": "markdown",
   "metadata": {},
   "source": [
    "## MDS\n",
    "- データを圧縮した次元にプロットする\n",
    "- その位置によってデータの近さを確認出来る\n",
    "- 主成分分析はあくまで次元の圧縮が目的だが、MDSは圧縮した次元にプロットすることが目的"
   ]
  },
  {
   "cell_type": "code",
   "execution_count": 23,
   "metadata": {
    "collapsed": true
   },
   "outputs": [],
   "source": [
    "from sklearn.manifold import MDS\n",
    "mds_mdl = MDS(n_components=2,dissimilarity=\"euclidean\",random_state=1)"
   ]
  },
  {
   "cell_type": "code",
   "execution_count": 24,
   "metadata": {
    "collapsed": false
   },
   "outputs": [],
   "source": [
    "mds_res = mds_mdl.fit_transform(pca_dat.T)"
   ]
  },
  {
   "cell_type": "code",
   "execution_count": 25,
   "metadata": {
    "collapsed": false
   },
   "outputs": [
    {
     "data": {
      "text/plain": [
       "<matplotlib.collections.PathCollection at 0x11b787bd0>"
      ]
     },
     "execution_count": 25,
     "metadata": {},
     "output_type": "execute_result"
    },
    {
     "data": {
      "image/png": "[encoded data removed]",
      "text/plain": [
       "<matplotlib.figure.Figure at 0x11c387f50>"
      ]
     },
     "metadata": {},
     "output_type": "display_data"
    }
   ],
   "source": [
    "mds_df = pd.DataFrame(mds_res)\n",
    "plt.scatter(x=mds_df[0],y=mds_df[1])"
   ]
  },
  {
   "cell_type": "code",
   "execution_count": 26,
   "metadata": {
    "collapsed": false
   },
   "outputs": [
    {
     "data": {
      "image/png": "[encoded data removed]",
      "text/plain": [
       "<matplotlib.figure.Figure at 0x11c243d90>"
      ]
     },
     "metadata": {},
     "output_type": "display_data"
    }
   ],
   "source": [
    "fig = plt.figure()\n",
    "plt.xlim(-15,15)\n",
    "plt.ylim(-15,15)\n",
    "for lbl,pos in zip(pca_dat.columns,mds_res):\n",
    "    plt.text(pos[0],pos[1],lbl)\n",
    "    "
   ]
  },
  {
   "cell_type": "markdown",
   "metadata": {
    "collapsed": true
   },
   "source": [
    "## 回帰分析\n",
    "- 各変量が結果にどのくらいの影響をあたえるかを数式化する方法\n",
    "- 目的変数の種類や、分布の仮定によって使用する分析名がかわる\n",
    "- 今回は目的変数が二値なのでロジスティック回帰を使う\n"
   ]
  },
  {
   "cell_type": "code",
   "execution_count": 27,
   "metadata": {
    "collapsed": true
   },
   "outputs": [],
   "source": [
    "from sklearn.linear_model import LogisticRegression\n",
    "m_logit_mdl = LogisticRegression()"
   ]
  },
  {
   "cell_type": "code",
   "execution_count": 28,
   "metadata": {
    "collapsed": false
   },
   "outputs": [
    {
     "data": {
      "text/html": [
       "<div>\n",
       "<table border=\"1\" class=\"dataframe\">\n",
       "  <thead>\n",
       "    <tr style=\"text-align: right;\">\n",
       "      <th></th>\n",
       "      <th>Implied Gender</th>\n",
       "      <th>Home/Apt/ PO Box</th>\n",
       "      <th>Pregnancy Test</th>\n",
       "      <th>Birth Control</th>\n",
       "      <th>Feminine Hygiene</th>\n",
       "      <th>Folic Acid</th>\n",
       "      <th>Prenatal Vitamins</th>\n",
       "      <th>Prenatal Yoga</th>\n",
       "      <th>Body Pillow</th>\n",
       "      <th>Ginger Ale</th>\n",
       "      <th>Sea Bands</th>\n",
       "      <th>Stopped buying ciggies</th>\n",
       "      <th>Cigarettes</th>\n",
       "      <th>Smoking Cessation</th>\n",
       "      <th>Stopped buying wine</th>\n",
       "      <th>Wine</th>\n",
       "      <th>Maternity Clothes</th>\n",
       "      <th>PREGNANT</th>\n",
       "    </tr>\n",
       "  </thead>\n",
       "  <tbody>\n",
       "    <tr>\n",
       "      <th>0</th>\n",
       "      <td>M</td>\n",
       "      <td>A</td>\n",
       "      <td>1</td>\n",
       "      <td>0</td>\n",
       "      <td>0</td>\n",
       "      <td>0</td>\n",
       "      <td>1</td>\n",
       "      <td>0</td>\n",
       "      <td>0</td>\n",
       "      <td>0</td>\n",
       "      <td>0</td>\n",
       "      <td>0</td>\n",
       "      <td>0</td>\n",
       "      <td>0</td>\n",
       "      <td>0</td>\n",
       "      <td>0</td>\n",
       "      <td>0</td>\n",
       "      <td>1</td>\n",
       "    </tr>\n",
       "    <tr>\n",
       "      <th>1</th>\n",
       "      <td>M</td>\n",
       "      <td>H</td>\n",
       "      <td>1</td>\n",
       "      <td>0</td>\n",
       "      <td>0</td>\n",
       "      <td>0</td>\n",
       "      <td>1</td>\n",
       "      <td>0</td>\n",
       "      <td>0</td>\n",
       "      <td>0</td>\n",
       "      <td>0</td>\n",
       "      <td>0</td>\n",
       "      <td>0</td>\n",
       "      <td>0</td>\n",
       "      <td>0</td>\n",
       "      <td>0</td>\n",
       "      <td>0</td>\n",
       "      <td>1</td>\n",
       "    </tr>\n",
       "    <tr>\n",
       "      <th>2</th>\n",
       "      <td>M</td>\n",
       "      <td>H</td>\n",
       "      <td>1</td>\n",
       "      <td>0</td>\n",
       "      <td>0</td>\n",
       "      <td>0</td>\n",
       "      <td>0</td>\n",
       "      <td>0</td>\n",
       "      <td>0</td>\n",
       "      <td>0</td>\n",
       "      <td>1</td>\n",
       "      <td>0</td>\n",
       "      <td>0</td>\n",
       "      <td>0</td>\n",
       "      <td>0</td>\n",
       "      <td>0</td>\n",
       "      <td>0</td>\n",
       "      <td>1</td>\n",
       "    </tr>\n",
       "    <tr>\n",
       "      <th>3</th>\n",
       "      <td>U</td>\n",
       "      <td>H</td>\n",
       "      <td>0</td>\n",
       "      <td>0</td>\n",
       "      <td>0</td>\n",
       "      <td>0</td>\n",
       "      <td>0</td>\n",
       "      <td>0</td>\n",
       "      <td>0</td>\n",
       "      <td>1</td>\n",
       "      <td>0</td>\n",
       "      <td>0</td>\n",
       "      <td>0</td>\n",
       "      <td>0</td>\n",
       "      <td>0</td>\n",
       "      <td>0</td>\n",
       "      <td>0</td>\n",
       "      <td>1</td>\n",
       "    </tr>\n",
       "    <tr>\n",
       "      <th>6</th>\n",
       "      <td>M</td>\n",
       "      <td>H</td>\n",
       "      <td>0</td>\n",
       "      <td>1</td>\n",
       "      <td>0</td>\n",
       "      <td>1</td>\n",
       "      <td>1</td>\n",
       "      <td>0</td>\n",
       "      <td>0</td>\n",
       "      <td>0</td>\n",
       "      <td>0</td>\n",
       "      <td>0</td>\n",
       "      <td>0</td>\n",
       "      <td>0</td>\n",
       "      <td>0</td>\n",
       "      <td>0</td>\n",
       "      <td>0</td>\n",
       "      <td>1</td>\n",
       "    </tr>\n",
       "  </tbody>\n",
       "</table>\n",
       "</div>"
      ],
      "text/plain": [
       "  Implied Gender Home/Apt/ PO Box  Pregnancy Test  Birth Control  \\\n",
       "0              M                A               1              0   \n",
       "1              M                H               1              0   \n",
       "2              M                H               1              0   \n",
       "3              U                H               0              0   \n",
       "6              M                H               0              1   \n",
       "\n",
       "   Feminine Hygiene  Folic Acid  Prenatal Vitamins  Prenatal Yoga  \\\n",
       "0                 0           0                  1              0   \n",
       "1                 0           0                  1              0   \n",
       "2                 0           0                  0              0   \n",
       "3                 0           0                  0              0   \n",
       "6                 0           1                  1              0   \n",
       "\n",
       "   Body Pillow  Ginger Ale  Sea Bands  Stopped buying ciggies  Cigarettes  \\\n",
       "0            0           0          0                       0           0   \n",
       "1            0           0          0                       0           0   \n",
       "2            0           0          1                       0           0   \n",
       "3            0           1          0                       0           0   \n",
       "6            0           0          0                       0           0   \n",
       "\n",
       "   Smoking Cessation  Stopped buying wine  Wine  Maternity Clothes  PREGNANT  \n",
       "0                  0                    0     0                  0         1  \n",
       "1                  0                    0     0                  0         1  \n",
       "2                  0                    0     0                  0         1  \n",
       "3                  0                    0     0                  0         1  \n",
       "6                  0                    0     0                  0         1  "
      ]
     },
     "execution_count": 28,
     "metadata": {},
     "output_type": "execute_result"
    }
   ],
   "source": [
    "m_dat = retail[retail[\"Implied Gender\"] != \"F\"]\n",
    "m_dat.head()"
   ]
  },
  {
   "cell_type": "code",
   "execution_count": 29,
   "metadata": {
    "collapsed": false
   },
   "outputs": [
    {
     "data": {
      "text/plain": [
       "LogisticRegression(C=1.0, class_weight=None, dual=False, fit_intercept=True,\n",
       "          intercept_scaling=1, max_iter=100, multi_class='ovr', n_jobs=1,\n",
       "          penalty='l2', random_state=None, solver='liblinear', tol=0.0001,\n",
       "          verbose=0, warm_start=False)"
      ]
     },
     "execution_count": 29,
     "metadata": {},
     "output_type": "execute_result"
    }
   ],
   "source": [
    "m_logit_mdl.fit(X=m_dat.ix[:,2:17],y=m_dat.PREGNANT)"
   ]
  },
  {
   "cell_type": "code",
   "execution_count": 30,
   "metadata": {
    "collapsed": false
   },
   "outputs": [
    {
     "data": {
      "text/html": [
       "<div>\n",
       "<table border=\"1\" class=\"dataframe\">\n",
       "  <thead>\n",
       "    <tr style=\"text-align: right;\">\n",
       "      <th></th>\n",
       "      <th>0</th>\n",
       "    </tr>\n",
       "  </thead>\n",
       "  <tbody>\n",
       "    <tr>\n",
       "      <th>Pregnancy Test</th>\n",
       "      <td>1.978629</td>\n",
       "    </tr>\n",
       "    <tr>\n",
       "      <th>Birth Control</th>\n",
       "      <td>-2.223912</td>\n",
       "    </tr>\n",
       "    <tr>\n",
       "      <th>Feminine Hygiene</th>\n",
       "      <td>-1.569618</td>\n",
       "    </tr>\n",
       "    <tr>\n",
       "      <th>Folic Acid</th>\n",
       "      <td>2.913971</td>\n",
       "    </tr>\n",
       "    <tr>\n",
       "      <th>Prenatal Vitamins</th>\n",
       "      <td>1.806862</td>\n",
       "    </tr>\n",
       "    <tr>\n",
       "      <th>Prenatal Yoga</th>\n",
       "      <td>1.249674</td>\n",
       "    </tr>\n",
       "    <tr>\n",
       "      <th>Body Pillow</th>\n",
       "      <td>0.924642</td>\n",
       "    </tr>\n",
       "    <tr>\n",
       "      <th>Ginger Ale</th>\n",
       "      <td>0.885529</td>\n",
       "    </tr>\n",
       "    <tr>\n",
       "      <th>Sea Bands</th>\n",
       "      <td>0.682928</td>\n",
       "    </tr>\n",
       "    <tr>\n",
       "      <th>Stopped buying ciggies</th>\n",
       "      <td>0.965379</td>\n",
       "    </tr>\n",
       "    <tr>\n",
       "      <th>Cigarettes</th>\n",
       "      <td>-1.365272</td>\n",
       "    </tr>\n",
       "    <tr>\n",
       "      <th>Smoking Cessation</th>\n",
       "      <td>0.990314</td>\n",
       "    </tr>\n",
       "    <tr>\n",
       "      <th>Stopped buying wine</th>\n",
       "      <td>1.435826</td>\n",
       "    </tr>\n",
       "    <tr>\n",
       "      <th>Wine</th>\n",
       "      <td>-1.154585</td>\n",
       "    </tr>\n",
       "    <tr>\n",
       "      <th>Maternity Clothes</th>\n",
       "      <td>1.491454</td>\n",
       "    </tr>\n",
       "  </tbody>\n",
       "</table>\n",
       "</div>"
      ],
      "text/plain": [
       "                               0\n",
       "Pregnancy Test          1.978629\n",
       "Birth Control          -2.223912\n",
       "Feminine Hygiene       -1.569618\n",
       "Folic Acid              2.913971\n",
       "Prenatal Vitamins       1.806862\n",
       "Prenatal Yoga           1.249674\n",
       "Body Pillow             0.924642\n",
       "Ginger Ale              0.885529\n",
       "Sea Bands               0.682928\n",
       "Stopped buying ciggies  0.965379\n",
       "Cigarettes             -1.365272\n",
       "Smoking Cessation       0.990314\n",
       "Stopped buying wine     1.435826\n",
       "Wine                   -1.154585\n",
       "Maternity Clothes       1.491454"
      ]
     },
     "execution_count": 30,
     "metadata": {},
     "output_type": "execute_result"
    }
   ],
   "source": [
    "m_coef= pd.DataFrame(m_logit_mdl.coef_).T\n",
    "m_coef.index=m_dat.columns[2:17]\n",
    "m_coef"
   ]
  },
  {
   "cell_type": "code",
   "execution_count": 31,
   "metadata": {
    "collapsed": false
   },
   "outputs": [
    {
     "data": {
      "text/plain": [
       "<matplotlib.axes._subplots.AxesSubplot at 0x11c5e88d0>"
      ]
     },
     "execution_count": 31,
     "metadata": {},
     "output_type": "execute_result"
    },
    {
     "data": {
      "image/png": "[encoded data removed]",
      "text/plain": [
       "<matplotlib.figure.Figure at 0x11c24d950>"
      ]
     },
     "metadata": {},
     "output_type": "display_data"
    }
   ],
   "source": [
    "m_coef.plot(kind=\"bar\")"
   ]
  },
  {
   "cell_type": "code",
   "execution_count": 32,
   "metadata": {
    "collapsed": false
   },
   "outputs": [
    {
     "data": {
      "text/html": [
       "<div>\n",
       "<table border=\"1\" class=\"dataframe\">\n",
       "  <thead>\n",
       "    <tr style=\"text-align: right;\">\n",
       "      <th></th>\n",
       "      <th>0</th>\n",
       "    </tr>\n",
       "  </thead>\n",
       "  <tbody>\n",
       "    <tr>\n",
       "      <th>Pregnancy Test</th>\n",
       "      <td>1.213938</td>\n",
       "    </tr>\n",
       "    <tr>\n",
       "      <th>Birth Control</th>\n",
       "      <td>-1.504180</td>\n",
       "    </tr>\n",
       "    <tr>\n",
       "      <th>Feminine Hygiene</th>\n",
       "      <td>-1.473262</td>\n",
       "    </tr>\n",
       "    <tr>\n",
       "      <th>Folic Acid</th>\n",
       "      <td>2.184776</td>\n",
       "    </tr>\n",
       "    <tr>\n",
       "      <th>Prenatal Vitamins</th>\n",
       "      <td>1.895484</td>\n",
       "    </tr>\n",
       "    <tr>\n",
       "      <th>Prenatal Yoga</th>\n",
       "      <td>0.935001</td>\n",
       "    </tr>\n",
       "    <tr>\n",
       "      <th>Body Pillow</th>\n",
       "      <td>0.463200</td>\n",
       "    </tr>\n",
       "    <tr>\n",
       "      <th>Ginger Ale</th>\n",
       "      <td>2.090933</td>\n",
       "    </tr>\n",
       "    <tr>\n",
       "      <th>Sea Bands</th>\n",
       "      <td>1.051877</td>\n",
       "    </tr>\n",
       "    <tr>\n",
       "      <th>Stopped buying ciggies</th>\n",
       "      <td>1.123330</td>\n",
       "    </tr>\n",
       "    <tr>\n",
       "      <th>Cigarettes</th>\n",
       "      <td>-1.036791</td>\n",
       "    </tr>\n",
       "    <tr>\n",
       "      <th>Smoking Cessation</th>\n",
       "      <td>1.281644</td>\n",
       "    </tr>\n",
       "    <tr>\n",
       "      <th>Stopped buying wine</th>\n",
       "      <td>1.116181</td>\n",
       "    </tr>\n",
       "    <tr>\n",
       "      <th>Wine</th>\n",
       "      <td>-1.308549</td>\n",
       "    </tr>\n",
       "    <tr>\n",
       "      <th>Maternity Clothes</th>\n",
       "      <td>1.737058</td>\n",
       "    </tr>\n",
       "  </tbody>\n",
       "</table>\n",
       "</div>"
      ],
      "text/plain": [
       "                               0\n",
       "Pregnancy Test          1.213938\n",
       "Birth Control          -1.504180\n",
       "Feminine Hygiene       -1.473262\n",
       "Folic Acid              2.184776\n",
       "Prenatal Vitamins       1.895484\n",
       "Prenatal Yoga           0.935001\n",
       "Body Pillow             0.463200\n",
       "Ginger Ale              2.090933\n",
       "Sea Bands               1.051877\n",
       "Stopped buying ciggies  1.123330\n",
       "Cigarettes             -1.036791\n",
       "Smoking Cessation       1.281644\n",
       "Stopped buying wine     1.116181\n",
       "Wine                   -1.308549\n",
       "Maternity Clothes       1.737058"
      ]
     },
     "execution_count": 32,
     "metadata": {},
     "output_type": "execute_result"
    }
   ],
   "source": [
    "f_logit_mdl = LogisticRegression()\n",
    "f_dat = retail[retail[\"Implied Gender\"] != \"M\"]\n",
    "f_logit_mdl.fit(X=f_dat.ix[:,2:17],y=f_dat.PREGNANT)\n",
    "f_coef= pd.DataFrame(f_logit_mdl.coef_).T\n",
    "f_coef.index=f_dat.columns[2:17]\n",
    "f_coef"
   ]
  },
  {
   "cell_type": "code",
   "execution_count": 33,
   "metadata": {
    "collapsed": false
   },
   "outputs": [
    {
     "data": {
      "text/plain": [
       "<matplotlib.axes._subplots.AxesSubplot at 0x11d85bf10>"
      ]
     },
     "execution_count": 33,
     "metadata": {},
     "output_type": "execute_result"
    },
    {
     "data": {
      "image/png": "[encoded data removed]",
      "text/plain": [
       "<matplotlib.figure.Figure at 0x11d6126d0>"
      ]
     },
     "metadata": {},
     "output_type": "display_data"
    },
    {
     "data": {
      "image/png": "[encoded data removed]",
      "text/plain": [
       "<matplotlib.figure.Figure at 0x11d75e0d0>"
      ]
     },
     "metadata": {},
     "output_type": "display_data"
    },
    {
     "data": {
      "image/png": "[encoded data removed]",
      "text/plain": [
       "<matplotlib.figure.Figure at 0x11d75e150>"
      ]
     },
     "metadata": {},
     "output_type": "display_data"
    }
   ],
   "source": [
    "plt.subplot()\n",
    "\n",
    "m_coef.plot(kind=\"bar\",color=\"blue\")\n",
    "f_coef.plot(kind=\"bar\",color=\"red\")"
   ]
  },
  {
   "cell_type": "code",
   "execution_count": 34,
   "metadata": {
    "collapsed": false
   },
   "outputs": [
    {
     "name": "stdout",
     "output_type": "stream",
     "text": [
      "0.867326732673\n"
     ]
    }
   ],
   "source": [
    "from sklearn.ensemble import RandomForestClassifier\n",
    "m_rf_mdl = RandomForestClassifier()\n",
    "m_rf_mdl.fit(m_dat.ix[:,2:17],m_dat.PREGNANT)\n",
    "\n",
    "print m_rf_mdl.score(m_dat.ix[:,2:17],m_dat.PREGNANT)\n"
   ]
  },
  {
   "cell_type": "markdown",
   "metadata": {},
   "source": [
    "# 機械学習\n",
    "- 多変量のデータを説明変数に目的変数を決定するモデルを作成する\n",
    "- データを区分する法則を最適化手法で見つけてモデル化する手法群\n",
    "- 統計的な手法や多変量解析が各次元の意味合いを重視するのに対し、機械学習は結果が十分に分類されるか、が目的になる"
   ]
  },
  {
   "cell_type": "code",
   "execution_count": 35,
   "metadata": {
    "collapsed": false
   },
   "outputs": [
    {
     "name": "stdout",
     "output_type": "stream",
     "text": [
      "0.838063439065\n"
     ]
    }
   ],
   "source": [
    "f_rf_mdl = RandomForestClassifier()\n",
    "f_rf_mdl.fit(f_dat.ix[:,2:17],f_dat.PREGNANT)\n",
    "\n",
    "print f_rf_mdl.score(f_dat.ix[:,2:17],f_dat.PREGNANT)"
   ]
  },
  {
   "cell_type": "code",
   "execution_count": 36,
   "metadata": {
    "collapsed": false
   },
   "outputs": [
    {
     "name": "stdout",
     "output_type": "stream",
     "text": [
      "0.839\n",
      "0.834\n"
     ]
    }
   ],
   "source": [
    "print m_rf_mdl.score(retail.ix[:,2:17],retail.PREGNANT)\n",
    "print f_rf_mdl.score(retail.ix[:,2:17],retail.PREGNANT)"
   ]
  },
  {
   "cell_type": "markdown",
   "metadata": {},
   "source": [
    "# 機械学習の評価と向上方法"
   ]
  },
  {
   "cell_type": "code",
   "execution_count": 37,
   "metadata": {
    "collapsed": false
   },
   "outputs": [
    {
     "name": "stdout",
     "output_type": "stream",
     "text": [
      "0.80198019802\n"
     ]
    }
   ],
   "source": [
    "from sklearn import cross_validation\n",
    "X_train, X_test, y_train, y_test = cross_validation.train_test_split(m_dat.ix[:,2:17],m_dat.PREGNANT, test_size=0.4, random_state=0)\n",
    "m_rf_mdl.fit(X_train, y_train)\n",
    "print m_rf_mdl.score(X_test, y_test)\n"
   ]
  },
  {
   "cell_type": "code",
   "execution_count": 38,
   "metadata": {
    "collapsed": false
   },
   "outputs": [
    {
     "name": "stdout",
     "output_type": "stream",
     "text": [
      "Accuracy: 0.83 (+/- 0.09)\n"
     ]
    }
   ],
   "source": [
    "scores = cross_validation.cross_val_score(m_rf_mdl,m_dat.ix[:,2:17],m_dat.PREGNANT, cv=10)\n",
    "print(\"Accuracy: %0.2f (+/- %0.2f)\" % (scores.mean(), scores.std() * 2))"
   ]
  },
  {
   "cell_type": "code",
   "execution_count": 39,
   "metadata": {
    "collapsed": false
   },
   "outputs": [
    {
     "name": "stdout",
     "output_type": "stream",
     "text": [
      "Accuracy: 0.63 (+/- 0.07)\n"
     ]
    }
   ],
   "source": [
    "scores = cross_validation.cross_val_score(f_rf_mdl,f_dat.ix[:,12:17],f_dat.PREGNANT, cv=10)\n",
    "print(\"Accuracy: %0.2f (+/- %0.2f)\" % (scores.mean(), scores.std() * 2))"
   ]
  },
  {
   "cell_type": "code",
   "execution_count": 62,
   "metadata": {
    "collapsed": false
   },
   "outputs": [
    {
     "name": "stdout",
     "output_type": "stream",
     "text": [
      "0.833713423831\n",
      "0.764298642534\n",
      "0.807799597788\n"
     ]
    }
   ],
   "source": [
    "print max(tmp)\n",
    "print min(tmp)\n",
    "print np.mean(tmp)"
   ]
  },
  {
   "cell_type": "code",
   "execution_count": null,
   "metadata": {
    "collapsed": true
   },
   "outputs": [],
   "source": [
    "# ↑step wise"
   ]
  },
  {
   "cell_type": "code",
   "execution_count": 2,
   "metadata": {
    "collapsed": true
   },
   "outputs": [],
   "source": [
    "# grid search + cross validation"
   ]
  },
  {
   "cell_type": "code",
   "execution_count": 44,
   "metadata": {
    "collapsed": true
   },
   "outputs": [],
   "source": [
    "params = {\n",
    "    'n_estimators':[i for i in range(1,151,30)],\n",
    "    'max_features':[i for i in range(1,16,3)],\n",
    "    'random_state':[0],\n",
    "    'n_jobs':[1],\n",
    "    'min_samples_split':[i for i in range(1,50,10)],\n",
    "    'max_depth':[i for i in range(1,50,10)]\n",
    "    \n",
    "}"
   ]
  },
  {
   "cell_type": "code",
   "execution_count": 45,
   "metadata": {
    "collapsed": false
   },
   "outputs": [
    {
     "data": {
      "text/plain": [
       "GridSearchCV(cv=None, error_score='raise',\n",
       "       estimator=RandomForestClassifier(bootstrap=True, class_weight=None, criterion='gini',\n",
       "            max_depth=None, max_features='auto', max_leaf_nodes=None,\n",
       "            min_samples_leaf=1, min_samples_split=2,\n",
       "            min_weight_fraction_leaf=0.0, n_estimators=10, n_jobs=1,\n",
       "            oob_score=False, random_state=None, verbose=0,\n",
       "            warm_start=False),\n",
       "       fit_params={}, iid=True, n_jobs=1,\n",
       "       param_grid={'n_jobs': [1], 'n_estimators': [1, 31, 61, 91, 121], 'min_samples_split': [1, 11, 21, 31, 41], 'random_state': [0], 'max_features': [1, 4, 7, 10, 13], 'max_depth': [1, 11, 21, 31, 41]},\n",
       "       pre_dispatch='2*n_jobs', refit=True, scoring=None, verbose=0)"
      ]
     },
     "execution_count": 45,
     "metadata": {},
     "output_type": "execute_result"
    }
   ],
   "source": [
    "from sklearn.grid_search import GridSearchCV\n",
    "f_rf = GridSearchCV(RandomForestClassifier(),params)\n",
    "f_rf.fit(m_dat.ix[:,2:17],m_dat.PREGNANT)"
   ]
  },
  {
   "cell_type": "code",
   "execution_count": 55,
   "metadata": {
    "collapsed": false
   },
   "outputs": [
    {
     "data": {
      "text/plain": [
       "RandomForestClassifier(bootstrap=True, class_weight=None, criterion='gini',\n",
       "            max_depth=21, max_features=1, max_leaf_nodes=None,\n",
       "            min_samples_leaf=1, min_samples_split=21,\n",
       "            min_weight_fraction_leaf=0.0, n_estimators=121, n_jobs=1,\n",
       "            oob_score=False, random_state=0, verbose=0, warm_start=False)"
      ]
     },
     "execution_count": 55,
     "metadata": {},
     "output_type": "execute_result"
    }
   ],
   "source": [
    "\n",
    "f_rf.best_estimator_"
   ]
  },
  {
   "cell_type": "code",
   "execution_count": 50,
   "metadata": {
    "collapsed": false
   },
   "outputs": [],
   "source": [
    "mdl = RandomForestClassifier(f_rf.best_estimator_)"
   ]
  },
  {
   "cell_type": "code",
   "execution_count": 57,
   "metadata": {
    "collapsed": false
   },
   "outputs": [
    {
     "data": {
      "text/plain": [
       "RandomForestClassifier(bootstrap=True, class_weight=None, criterion='gini',\n",
       "            max_depth=21, max_features=1, max_leaf_nodes=None,\n",
       "            min_samples_leaf=1, min_samples_split=21,\n",
       "            min_weight_fraction_leaf=0.0, n_estimators=121, n_jobs=1,\n",
       "            oob_score=False, random_state=0, verbose=0, warm_start=False)"
      ]
     },
     "execution_count": 57,
     "metadata": {},
     "output_type": "execute_result"
    }
   ],
   "source": [
    "f_rf.best_estimator_.fit(X=m_dat.ix[:,2:17],y=m_dat.PREGNANT)"
   ]
  },
  {
   "cell_type": "code",
   "execution_count": 58,
   "metadata": {
    "collapsed": false
   },
   "outputs": [
    {
     "data": {
      "text/plain": [
       "0.85742574257425741"
      ]
     },
     "execution_count": 58,
     "metadata": {},
     "output_type": "execute_result"
    }
   ],
   "source": [
    "f_rf.best_estimator_.score(X=m_dat.ix[:,2:17],y=m_dat.PREGNANT)"
   ]
  },
  {
   "cell_type": "code",
   "execution_count": null,
   "metadata": {
    "collapsed": true
   },
   "outputs": [],
   "source": []
  },
  {
   "cell_type": "code",
   "execution_count": 118,
   "metadata": {
    "collapsed": false
   },
   "outputs": [
    {
     "data": {
      "text/plain": [
       "array([1])"
      ]
     },
     "execution_count": 118,
     "metadata": {},
     "output_type": "execute_result"
    }
   ],
   "source": [
    "res = m_rf_mdl.predict([ [0,1,1,1,0,0]+[0 for i in range(9)] ])\n",
    "res"
   ]
  },
  {
   "cell_type": "code",
   "execution_count": 100,
   "metadata": {
    "collapsed": false
   },
   "outputs": [
    {
     "data": {
      "text/plain": [
       "array([0])"
      ]
     },
     "execution_count": 100,
     "metadata": {},
     "output_type": "execute_result"
    }
   ],
   "source": [
    "f_logit_mdl.predict([ [0,1,1,1]+[0 for i in range(11)] ])"
   ]
  },
  {
   "cell_type": "code",
   "execution_count": null,
   "metadata": {
    "collapsed": true
   },
   "outputs": [],
   "source": [
    "# mdlの保存"
   ]
  },
  {
   "cell_type": "code",
   "execution_count": 120,
   "metadata": {
    "collapsed": false
   },
   "outputs": [],
   "source": [
    "import pickle\n",
    "with open(\"mdl.pcl\",\"wb\") as f:\n",
    "    pickle.dump(m_rf_mdl,f)"
   ]
  },
  {
   "cell_type": "code",
   "execution_count": 122,
   "metadata": {
    "collapsed": false
   },
   "outputs": [
    {
     "data": {
      "text/plain": [
       "array([1])"
      ]
     },
     "execution_count": 122,
     "metadata": {},
     "output_type": "execute_result"
    }
   ],
   "source": [
    "with open(\"mdl.pcl\",\"rb\") as f:\n",
    "    cls = pickle.load(f)\n",
    "cls.predict([[0,1,1,1]+[0 for i in range(11)] ])"
   ]
  },
  {
   "cell_type": "code",
   "execution_count": null,
   "metadata": {
    "collapsed": true
   },
   "outputs": [],
   "source": []
  },
  {
   "cell_type": "code",
   "execution_count": null,
   "metadata": {
    "collapsed": true
   },
   "outputs": [],
   "source": []
  }
 ],
 "metadata": {
  "kernelspec": {
   "display_name": "Python 2",
   "language": "python",
   "name": "python2"
  },
  "language_info": {
   "codemirror_mode": {
    "name": "ipython",
    "version": 2
   },
   "file_extension": ".py",
   "mimetype": "text/x-python",
   "name": "python",
   "nbconvert_exporter": "python",
   "pygments_lexer": "ipython2",
   "version": "2.7.12"
  }
 },
 "nbformat": 4,
 "nbformat_minor": 0
}
